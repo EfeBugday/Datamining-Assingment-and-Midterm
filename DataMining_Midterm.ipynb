{
  "nbformat": 4,
  "nbformat_minor": 0,
  "metadata": {
    "colab": {
      "provenance": []
    },
    "kernelspec": {
      "name": "python3",
      "display_name": "Python 3"
    },
    "language_info": {
      "name": "python"
    }
  },
  "cells": [
    {
      "cell_type": "code",
      "source": [
        "import pandas as pd\n",
        "from sklearn.model_selection import train_test_split\n",
        "from sklearn.preprocessing import StandardScaler, LabelEncoder\n",
        "from sklearn.ensemble import RandomForestClassifier\n",
        "from sklearn.metrics import accuracy_score, classification_report, confusion_matrix\n",
        "import seaborn as sns\n",
        "import matplotlib.pyplot as plt"
      ],
      "metadata": {
        "id": "JC4bN2XmBix_"
      },
      "execution_count": null,
      "outputs": []
    },
    {
      "cell_type": "code",
      "source": [
        "# Load the dataset into a Pandas DataFrame\n",
        "df = pd.read_csv('part-00000-363d1ba3-8ab5-4f96-bc25-4d5862db7cb9-c000.csv')"
      ],
      "metadata": {
        "id": "-wZmR3jwBjA4"
      },
      "execution_count": null,
      "outputs": []
    },
    {
      "cell_type": "code",
      "source": [
        "# Separate features (X) and target variable (y)\n",
        "X = df.drop(columns=[\"label\"])  # Remove the target column 'label' to create feature matrix\n",
        "y = df[\"label\"]  # Select the target column 'label'\n",
        "\n",
        "# Encode the target variable into numeric labels\n",
        "print(\"Unique values before encoding:\", y.unique())  # Display unique values in the target column\n",
        "label_encoder = LabelEncoder()  # Initialize label encoder\n",
        "df['label'] = label_encoder.fit_transform(df['label'])  # Encode target column into numbers\n",
        "y_encoded = df['label']  # Use the encoded labels as the new target variable\n",
        "\n",
        "# Split the data into training and testing sets\n",
        "X_train, X_test, y_train, y_test = train_test_split(\n",
        "    X, y_encoded, test_size=0.2, random_state=42, stratify=y_encoded\n",
        ")\n",
        "# Reserving 20% of the data for testing, and 80% for training\n",
        "# stratify=y_encoded ensures class distribution is maintained between training and testing sets\n",
        "# random_state=42 ensures reproducibility of the split\n",
        "\n",
        "# Standardizing the features for better model performance\n",
        "scaler = StandardScaler()  # Initialising a scaler for standardization\n",
        "X_train_scaled = scaler.fit_transform(X_train)  # Fit and transform training data\n",
        "X_test_scaled = scaler.transform(X_test)  # Transform testing data using the same scaler\n"
      ],
      "metadata": {
        "id": "03myI7gtBjRG"
      },
      "execution_count": null,
      "outputs": []
    },
    {
      "cell_type": "code",
      "source": [
        "# Display the mapping between original labels and encoded labels\n",
        "label_mapping = dict(zip(label_encoder.classes_, label_encoder.transform(label_encoder.classes_)))\n",
        "print(\"Label Mapping:\", label_mapping)"
      ],
      "metadata": {
        "id": "p3PlsFswBr6z"
      },
      "execution_count": null,
      "outputs": []
    },
    {
      "cell_type": "code",
      "source": [
        "# Train a Random Forest classifier on the training data\n",
        "rf_model = RandomForestClassifier(random_state=42)  # Initialize the model with a fixed random state\n",
        "rf_model.fit(X_train_scaled, y_train)  # Train the model on the standardized training data\n",
        "\n",
        "# Evaluate the model's performance on the testing data\n",
        "y_pred = rf_model.predict(X_test_scaled)  # Predict the target values for the test set\n",
        "accuracy = accuracy_score(y_test, y_pred)  # Calculates the model's accuracy\n",
        "print(\"Accuracy:\", accuracy)"
      ],
      "metadata": {
        "id": "gakddUF2BsJe"
      },
      "execution_count": null,
      "outputs": []
    },
    {
      "cell_type": "code",
      "source": [
        "# Generate a classification report with precision, recall, F1-score, and support for each class\n",
        "print(\"Classification Report:\\n\", classification_report(y_test, y_pred, target_names=label_encoder.classes_))\n",
        "\n",
        "# Creating a confusion matrix to visualize model predictions vs actual values\n",
        "plt.figure(figsize=(15, 15))  # Adjust the figure size for better readability\n",
        "conf_matrix = confusion_matrix(y_test, y_pred)  # Generate the confusion matrix\n",
        "sns.heatmap(conf_matrix, annot=True, fmt='d', cmap='Blues',\n",
        "            xticklabels=label_encoder.classes_, yticklabels=label_encoder.classes_)\n",
        "# Annotate the confusion matrix\n",
        "plt.xlabel(\"Predicted\")  # Label the x-axis as Predicted values\n",
        "plt.ylabel(\"Actual\")  # Label the y-axis as Actual values\n",
        "plt.title(\"Confusion Matrix\")  # Add a title to the heatmap\n",
        "plt.show()  # Display the heatmap"
      ],
      "metadata": {
        "id": "6had_nK0B6-b"
      },
      "execution_count": null,
      "outputs": []
    }
  ]
}